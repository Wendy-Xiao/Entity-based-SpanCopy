{
 "cells": [
  {
   "cell_type": "code",
   "execution_count": 1,
   "id": "103f9a74",
   "metadata": {},
   "outputs": [],
   "source": [
    "import torch \n",
    "import spacy\n",
    "from datasets import load_dataset\n",
    "from tqdm import tqdm\n",
    "import os"
   ]
  },
  {
   "cell_type": "code",
   "execution_count": 2,
   "id": "6d6aa501",
   "metadata": {},
   "outputs": [],
   "source": [
    "def get_entities(nlp,doc):\n",
    "    doc=doc.replace('(CNN)','')\n",
    "    s = nlp(doc)\n",
    "    all_entities = [ent.text for ent in s.ents]\n",
    "    return all_entities\n",
    "def approximate_match_number(entity_list1,entity_list2):\n",
    "    match_num=0\n",
    "    for e1 in entity_list1:\n",
    "        for e2 in entity_list2:\n",
    "            if e1.lower()==e2.lower() or e1.replace('the','').strip()==e2 or e1==e2.replace('the','').strip():\n",
    "                match_num+=1\n",
    "                break\n",
    "    return match_num\n",
    "            "
   ]
  },
  {
   "cell_type": "code",
   "execution_count": 3,
   "id": "d1b45924",
   "metadata": {},
   "outputs": [
    {
     "data": {
      "application/vnd.jupyter.widget-view+json": {
       "model_id": "6dcee6ddd5db4ab29d98286a0d4450cb",
       "version_major": 2,
       "version_minor": 0
      },
      "text/plain": [
       "Downloading:   0%|          | 0.00/1.61k [00:00<?, ?B/s]"
      ]
     },
     "metadata": {},
     "output_type": "display_data"
    },
    {
     "data": {
      "application/vnd.jupyter.widget-view+json": {
       "model_id": "8e7c2083176a43c5a06134a058e70d89",
       "version_major": 2,
       "version_minor": 0
      },
      "text/plain": [
       "Downloading:   0%|          | 0.00/918 [00:00<?, ?B/s]"
      ]
     },
     "metadata": {},
     "output_type": "display_data"
    },
    {
     "name": "stderr",
     "output_type": "stream",
     "text": [
      "Using custom data configuration default\n"
     ]
    },
    {
     "name": "stdout",
     "output_type": "stream",
     "text": [
      "Downloading and preparing dataset multi_news/default (download: 245.06 MiB, generated: 667.74 MiB, post-processed: Unknown size, total: 912.80 MiB) to /scratch/wenxiao/topic_model/dataset/multi_news/default/1.0.0/2e145a8e21361ba4ee46fef70640ab946a3e8d425002f104d2cda99a9efca376...\n"
     ]
    },
    {
     "data": {
      "application/vnd.jupyter.widget-view+json": {
       "model_id": "b0ea74b1a0024602b40189ceeac6262f",
       "version_major": 2,
       "version_minor": 0
      },
      "text/plain": [
       "Downloading:   0%|          | 0.00/257M [00:00<?, ?B/s]"
      ]
     },
     "metadata": {},
     "output_type": "display_data"
    },
    {
     "data": {
      "application/vnd.jupyter.widget-view+json": {
       "model_id": "",
       "version_major": 2,
       "version_minor": 0
      },
      "text/plain": [
       "0 examples [00:00, ? examples/s]"
      ]
     },
     "metadata": {},
     "output_type": "display_data"
    },
    {
     "data": {
      "application/vnd.jupyter.widget-view+json": {
       "model_id": "",
       "version_major": 2,
       "version_minor": 0
      },
      "text/plain": [
       "0 examples [00:00, ? examples/s]"
      ]
     },
     "metadata": {},
     "output_type": "display_data"
    },
    {
     "data": {
      "application/vnd.jupyter.widget-view+json": {
       "model_id": "",
       "version_major": 2,
       "version_minor": 0
      },
      "text/plain": [
       "0 examples [00:00, ? examples/s]"
      ]
     },
     "metadata": {},
     "output_type": "display_data"
    },
    {
     "name": "stdout",
     "output_type": "stream",
     "text": [
      "Dataset multi_news downloaded and prepared to /scratch/wenxiao/topic_model/dataset/multi_news/default/1.0.0/2e145a8e21361ba4ee46fef70640ab946a3e8d425002f104d2cda99a9efca376. Subsequent calls will reuse this data.\n"
     ]
    },
    {
     "data": {
      "application/vnd.jupyter.widget-view+json": {
       "model_id": "943f22c7e4ab416bb33e427a35669798",
       "version_major": 2,
       "version_minor": 0
      },
      "text/plain": [
       "  0%|          | 0/3 [00:00<?, ?it/s]"
      ]
     },
     "metadata": {},
     "output_type": "display_data"
    }
   ],
   "source": [
    "dataset = load_dataset(\n",
    "        \"cnn_dailymail\", \"2.0.0\", cache_dir=\"/scratch/wenxiao/topic_model/dataset/\"\n",
    "    )\n",
    "# dataset = load_dataset(\n",
    "#         \"xsum\",  cache_dir=\"/scratch/wenxiao/topic_model/dataset/\"\n",
    "#     )\n",
    "# dataset = load_dataset(\n",
    "#         \"scientific_papers\", \"arxiv\", cache_dir=\"/scratch/wenxiao/topic_model/dataset/\"\n",
    "#     )\n",
    "dataset = load_dataset(\n",
    "        \"multi_news\", cache_dir=\"/scratch/wenxiao/topic_model/dataset/\"\n",
    "    )\n",
    "nlp = spacy.load(\"en_core_web_sm\")"
   ]
  },
  {
   "cell_type": "markdown",
   "id": "1b0d488f",
   "metadata": {},
   "source": [
    "# Analyze the entities between doc and summ in CNNDM"
   ]
  },
  {
   "cell_type": "code",
   "execution_count": 4,
   "id": "24fbeb8d",
   "metadata": {},
   "outputs": [
    {
     "data": {
      "text/plain": [
       "dict_keys(['article', 'highlights', 'id'])"
      ]
     },
     "execution_count": 4,
     "metadata": {},
     "output_type": "execute_result"
    }
   ],
   "source": [
    "dataset = load_dataset(\n",
    "        \"cnn_dailymail\", \"2.0.0\", cache_dir=\"/scratch/wenxiao/topic_model/dataset/\"\n",
    "    )"
   ]
  },
  {
   "cell_type": "code",
   "execution_count": 16,
   "id": "48ff7001",
   "metadata": {},
   "outputs": [
    {
     "name": "stderr",
     "output_type": "stream",
     "text": [
      "100%|██████████| 13368/13368 [19:32<00:00, 11.40it/s]\n"
     ]
    }
   ],
   "source": [
    "recall=[]\n",
    "precision=[]\n",
    "f1=[]\n",
    "doc_entity_num=[]\n",
    "summ_entity_num=[]\n",
    "match_num=[]\n",
    "for i in tqdm(range(len(dataset['validation']))):\n",
    "    doc_entities = set(get_entities(nlp,dataset['validation'][i]['article']))\n",
    "    doc_entity_num.append(len(doc_entities))\n",
    "\n",
    "    summ_entities = set(get_entities(nlp,dataset['validation'][i]['highlights']))\n",
    "    summ_entity_num.append(len(summ_entities))\n",
    "    \n",
    "    num_intersect=approximate_match_number(doc_entities,summ_entities)\n",
    "    match_num.append(num_intersect)\n",
    "#     num_intersect = len(doc_entities.intersection(summ_entities))\n",
    "    r= num_intersect/float(len(summ_entities)) if len(summ_entities)!=0 else 0\n",
    "    p= num_intersect/float(len(doc_entities)) if len(doc_entities)!=0 else 0\n",
    "    f = 2*p*r/(p+r) if r!=0 or p!=0 else 0\n",
    "\n",
    "    recall.append(r)\n",
    "    precision.append(p)\n",
    "    f1.append(f)\n",
    "    "
   ]
  },
  {
   "cell_type": "code",
   "execution_count": 17,
   "id": "34ecf1ba",
   "metadata": {},
   "outputs": [
    {
     "name": "stdout",
     "output_type": "stream",
     "text": [
      "0.1605695594372795\n",
      "0.8315119888856853\n",
      "0.2580228363723967\n",
      "5.557824655894674\n",
      "40.682675044883304\n",
      "6.662477558348295\n"
     ]
    }
   ],
   "source": [
    "print(sum(precision)/len(precision))\n",
    "print(sum(recall)/len(recall))\n",
    "print(sum(f1)/len(f1))\n",
    "print(sum(match_num)/len(match_num))\n",
    "print(sum(doc_entity_num)/len(doc_entity_num))\n",
    "print(sum(summ_entity_num)/len(summ_entity_num))"
   ]
  },
  {
   "cell_type": "markdown",
   "id": "4168571e",
   "metadata": {},
   "source": [
    "# Analyze the entities between doc and summ in Pubmed"
   ]
  },
  {
   "cell_type": "code",
   "execution_count": 18,
   "id": "d55a65ea",
   "metadata": {},
   "outputs": [
    {
     "name": "stderr",
     "output_type": "stream",
     "text": [
      "Reusing dataset scientific_papers (/scratch/wenxiao/topic_model/dataset/scientific_papers/pubmed/1.1.1/306757013fb6f37089b6a75469e6638a553bd9f009484938d8f75a4c5e84206f)\n"
     ]
    },
    {
     "data": {
      "application/vnd.jupyter.widget-view+json": {
       "model_id": "084df6c806724ec48006a49439273f59",
       "version_major": 2,
       "version_minor": 0
      },
      "text/plain": [
       "  0%|          | 0/3 [00:00<?, ?it/s]"
      ]
     },
     "metadata": {},
     "output_type": "display_data"
    }
   ],
   "source": [
    "dataset = load_dataset(\n",
    "        \"scientific_papers\", \"pubmed\", cache_dir=\"/scratch/wenxiao/topic_model/dataset/\"\n",
    "    )"
   ]
  },
  {
   "cell_type": "code",
   "execution_count": 19,
   "id": "929ee800",
   "metadata": {},
   "outputs": [
    {
     "data": {
      "text/plain": [
       "dict_keys(['article', 'abstract', 'section_names'])"
      ]
     },
     "execution_count": 19,
     "metadata": {},
     "output_type": "execute_result"
    }
   ],
   "source": [
    "dataset['validation'][0].keys()"
   ]
  },
  {
   "cell_type": "code",
   "execution_count": 20,
   "id": "916c30d7",
   "metadata": {},
   "outputs": [
    {
     "name": "stderr",
     "output_type": "stream",
     "text": [
      "100%|██████████| 6633/6633 [40:26<00:00,  2.73it/s]   \n"
     ]
    }
   ],
   "source": [
    "recall=[]\n",
    "precision=[]\n",
    "f1=[]\n",
    "doc_entity_num=[]\n",
    "summ_entity_num=[]\n",
    "match_num = []\n",
    "for i in tqdm(range(len(dataset['validation']))):\n",
    "    doc_entities = set(get_entities(nlp,dataset['validation'][i]['article']))\n",
    "    doc_entity_num.append(len(doc_entities))\n",
    "\n",
    "    summ_entities = set(get_entities(nlp,dataset['validation'][i]['abstract']))\n",
    "    summ_entity_num.append(len(summ_entities))\n",
    "    \n",
    "    num_intersect=approximate_match_number(doc_entities,summ_entities)\n",
    "#     num_intersect = len(doc_entities.intersection(summ_entities))\n",
    "\n",
    "    \n",
    "    r= num_intersect/float(len(summ_entities)) if len(summ_entities)!=0 else 0\n",
    "    p= num_intersect/float(len(doc_entities)) if len(doc_entities)!=0 else 0\n",
    "    f = 2*p*r/(p+r) if r!=0 or p!=0 else 0\n",
    "\n",
    "    recall.append(r)\n",
    "    precision.append(p)\n",
    "    f1.append(f)\n",
    "    match_num.append(num_intersect)"
   ]
  },
  {
   "cell_type": "code",
   "execution_count": 21,
   "id": "a68ce1e4",
   "metadata": {},
   "outputs": [
    {
     "name": "stdout",
     "output_type": "stream",
     "text": [
      "0.07494208263931407\n",
      "0.6407041769589116\n",
      "0.1249531545748999\n",
      "4.62792100105533\n",
      "72.1676466154078\n",
      "6.429519071310116\n"
     ]
    }
   ],
   "source": [
    "print(sum(precision)/len(precision))\n",
    "print(sum(recall)/len(recall))\n",
    "print(sum(f1)/len(f1))\n",
    "print(sum(match_num)/len(match_num))\n",
    "print(sum(doc_entity_num)/len(doc_entity_num))\n",
    "print(sum(summ_entity_num)/len(summ_entity_num))"
   ]
  },
  {
   "cell_type": "markdown",
   "id": "6114c454",
   "metadata": {},
   "source": [
    "# Analyze the entities between doc and summ in arXiv"
   ]
  },
  {
   "cell_type": "code",
   "execution_count": 22,
   "id": "461699ca",
   "metadata": {},
   "outputs": [
    {
     "name": "stderr",
     "output_type": "stream",
     "text": [
      "Reusing dataset scientific_papers (/scratch/wenxiao/topic_model/dataset/scientific_papers/arxiv/1.1.1/306757013fb6f37089b6a75469e6638a553bd9f009484938d8f75a4c5e84206f)\n"
     ]
    },
    {
     "data": {
      "application/vnd.jupyter.widget-view+json": {
       "model_id": "76fa92a1f74d4880a5a45e93375bbecd",
       "version_major": 2,
       "version_minor": 0
      },
      "text/plain": [
       "  0%|          | 0/3 [00:00<?, ?it/s]"
      ]
     },
     "metadata": {},
     "output_type": "display_data"
    }
   ],
   "source": [
    "dataset = load_dataset(\n",
    "        \"scientific_papers\", \"arxiv\", cache_dir=\"/scratch/wenxiao/topic_model/dataset/\"\n",
    "    )"
   ]
  },
  {
   "cell_type": "code",
   "execution_count": 23,
   "id": "22d1e0cc",
   "metadata": {},
   "outputs": [
    {
     "name": "stderr",
     "output_type": "stream",
     "text": [
      "100%|██████████| 6436/6436 [1:15:42<00:00,  1.42it/s]\n"
     ]
    }
   ],
   "source": [
    "recall=[]\n",
    "precision=[]\n",
    "f1=[]\n",
    "doc_entity_num=[]\n",
    "summ_entity_num=[]\n",
    "match_num = []\n",
    "for i in tqdm(range(len(dataset['validation']))):\n",
    "    doc_entities = set(get_entities(nlp,dataset['validation'][i]['article']))\n",
    "    doc_entity_num.append(len(doc_entities))\n",
    "\n",
    "    summ_entities = set(get_entities(nlp,dataset['validation'][i]['abstract']))\n",
    "    summ_entity_num.append(len(summ_entities))\n",
    "    \n",
    "    num_intersect=approximate_match_number(doc_entities,summ_entities)\n",
    "#     num_intersect = len(doc_entities.intersection(summ_entities))\n",
    "\n",
    "    r= num_intersect/float(len(summ_entities)) if len(summ_entities)!=0 else 0\n",
    "    p= num_intersect/float(len(doc_entities)) if len(doc_entities)!=0 else 0\n",
    "    f = 2*p*r/(p+r) if r!=0 or p!=0 else 0\n",
    "\n",
    "    recall.append(r)\n",
    "    precision.append(p)\n",
    "    f1.append(f)\n",
    "    match_num.append(num_intersect)\n",
    "    "
   ]
  },
  {
   "cell_type": "code",
   "execution_count": 24,
   "id": "bca14d8a",
   "metadata": {},
   "outputs": [
    {
     "name": "stdout",
     "output_type": "stream",
     "text": [
      "0.019889883603868053\n",
      "0.5860607551957498\n",
      "0.03677752806125409\n",
      "1.973586078309509\n",
      "144.79039776258546\n",
      "3.11544437538844\n"
     ]
    }
   ],
   "source": [
    "print(sum(precision)/len(precision))\n",
    "print(sum(recall)/len(recall))\n",
    "print(sum(f1)/len(f1))\n",
    "print(sum(match_num)/len(match_num))\n",
    "print(sum(doc_entity_num)/len(doc_entity_num))\n",
    "print(sum(summ_entity_num)/len(summ_entity_num))"
   ]
  },
  {
   "cell_type": "markdown",
   "id": "e080abd7",
   "metadata": {},
   "source": [
    "# Analyze the entities between doc and summ in Multi-News"
   ]
  },
  {
   "cell_type": "code",
   "execution_count": 25,
   "id": "e1c3ff82",
   "metadata": {},
   "outputs": [
    {
     "name": "stderr",
     "output_type": "stream",
     "text": [
      "Using custom data configuration default\n",
      "Reusing dataset multi_news (/scratch/wenxiao/topic_model/dataset/multi_news/default/1.0.0/2e145a8e21361ba4ee46fef70640ab946a3e8d425002f104d2cda99a9efca376)\n"
     ]
    },
    {
     "data": {
      "application/vnd.jupyter.widget-view+json": {
       "model_id": "ba201db4f7374d2cacc52392f1f2b160",
       "version_major": 2,
       "version_minor": 0
      },
      "text/plain": [
       "  0%|          | 0/3 [00:00<?, ?it/s]"
      ]
     },
     "metadata": {},
     "output_type": "display_data"
    }
   ],
   "source": [
    "dataset = load_dataset(\n",
    "        \"multi_news\", cache_dir=\"/scratch/wenxiao/topic_model/dataset/\"\n",
    "    )"
   ]
  },
  {
   "cell_type": "code",
   "execution_count": 4,
   "id": "09eef88a",
   "metadata": {},
   "outputs": [
    {
     "data": {
      "text/plain": [
       "dict_keys(['document', 'summary'])"
      ]
     },
     "execution_count": 4,
     "metadata": {},
     "output_type": "execute_result"
    }
   ],
   "source": [
    "dataset['validation'][0].keys()"
   ]
  },
  {
   "cell_type": "code",
   "execution_count": 26,
   "id": "99f70f1a",
   "metadata": {},
   "outputs": [
    {
     "name": "stderr",
     "output_type": "stream",
     "text": [
      "100%|██████████| 5622/5622 [23:13<00:00,  4.03it/s]   \n"
     ]
    }
   ],
   "source": [
    "recall=[]\n",
    "precision=[]\n",
    "f1=[]\n",
    "doc_entity_num=[]\n",
    "summ_entity_num=[]\n",
    "match_num = []\n",
    "for i in tqdm(range(len(dataset['validation']))):\n",
    "    doc_entities = set(get_entities(nlp,dataset['validation'][i]['document']))\n",
    "    doc_entity_num.append(len(doc_entities))\n",
    "\n",
    "    summ_entities = set(get_entities(nlp,dataset['validation'][i]['summary']))\n",
    "    summ_entity_num.append(len(summ_entities))\n",
    "    \n",
    "    num_intersect=approximate_match_number(doc_entities,summ_entities)\n",
    "#     num_intersect = len(doc_entities.intersection(summ_entities))\n",
    "    \n",
    "    r= num_intersect/float(len(summ_entities)) if len(summ_entities)!=0 else 0\n",
    "    p= num_intersect/float(len(doc_entities)) if len(doc_entities)!=0 else 0\n",
    "    f = 2*p*r/(p+r) if r!=0 or p!=0 else 0\n",
    "\n",
    "    recall.append(r)\n",
    "    precision.append(p)\n",
    "    f1.append(f)\n",
    "    match_num.append(num_intersect)"
   ]
  },
  {
   "cell_type": "code",
   "execution_count": 27,
   "id": "776e109c",
   "metadata": {},
   "outputs": [
    {
     "name": "stdout",
     "output_type": "stream",
     "text": [
      "0.17148039470515866\n",
      "0.6563465701313178\n",
      "0.2566763331499742\n",
      "11.957310565635005\n",
      "90.84204909284952\n",
      "17.9062611170402\n"
     ]
    }
   ],
   "source": [
    "print(sum(precision)/len(precision))\n",
    "print(sum(recall)/len(recall))\n",
    "print(sum(f1)/len(f1))\n",
    "print(sum(match_num)/len(match_num))\n",
    "print(sum(doc_entity_num)/len(doc_entity_num))\n",
    "print(sum(summ_entity_num)/len(summ_entity_num))"
   ]
  },
  {
   "cell_type": "markdown",
   "id": "fbd83859",
   "metadata": {},
   "source": [
    "# Analyze the entities between doc and summ in XSUM"
   ]
  },
  {
   "cell_type": "code",
   "execution_count": 4,
   "id": "5d3c2353",
   "metadata": {},
   "outputs": [
    {
     "data": {
      "text/plain": [
       "dict_keys(['document', 'summary', 'id'])"
      ]
     },
     "execution_count": 4,
     "metadata": {},
     "output_type": "execute_result"
    }
   ],
   "source": [
    "dataset['validation'][0].keys()"
   ]
  },
  {
   "cell_type": "code",
   "execution_count": 7,
   "id": "b875198c",
   "metadata": {},
   "outputs": [
    {
     "name": "stderr",
     "output_type": "stream",
     "text": [
      "  0%|          | 0/11332 [00:00<?, ?it/s]\n"
     ]
    }
   ],
   "source": [
    "recall=[]\n",
    "precision=[]\n",
    "f1=[]\n",
    "doc_entity_num=[]\n",
    "summ_entity_num=[]\n",
    "match_num = []\n",
    "for i in tqdm(range(len(dataset['validation']))):\n",
    "    doc_entities = set(get_entities(nlp,dataset['validation'][i]['document']))\n",
    "    doc_entity_num.append(len(doc_entities))\n",
    "\n",
    "    summ_entities = set(get_entities(nlp,dataset['validation'][i]['summary']))\n",
    "    summ_entity_num.append(len(summ_entities))\n",
    "    \n",
    "    num_intersect=approximate_match_number(doc_entities,summ_entities)\n",
    "#     num_intersect = len(doc_entities.intersection(summ_entities))\n",
    "    r= num_intersect/float(len(summ_entities)) if len(summ_entities)!=0 else 0\n",
    "    p= num_intersect/float(len(doc_entities)) if len(doc_entities)!=0 else 0\n",
    "    f = 2*p*r/(p+r) if r!=0 or p!=0 else 0\n",
    "\n",
    "    recall.append(r)\n",
    "    precision.append(p)\n",
    "    f1.append(f)\n",
    "    match_num.append(num_intersect)\n",
    "    break"
   ]
  },
  {
   "cell_type": "code",
   "execution_count": 6,
   "id": "66d46b97",
   "metadata": {},
   "outputs": [
    {
     "name": "stdout",
     "output_type": "stream",
     "text": [
      "0.04176096760600055\n",
      "0.36260828877754414\n",
      "0.07124630804607004\n",
      "27.743293328626898\n",
      "2.7198199788210378\n"
     ]
    }
   ],
   "source": [
    "print(sum(precision)/len(precision))\n",
    "print(sum(recall)/len(recall))\n",
    "print(sum(f1)/len(f1))\n",
    "print(sum(match_num)/len(match_num))\n",
    "print(sum(doc_entity_num)/len(doc_entity_num))\n",
    "print(sum(summ_entity_num)/len(summ_entity_num))"
   ]
  },
  {
   "cell_type": "code",
   "execution_count": 18,
   "id": "9f09a3d4",
   "metadata": {},
   "outputs": [
    {
     "data": {
      "text/plain": [
       "{'100',\n",
       " '2012',\n",
       " 'Alexandra Shulman',\n",
       " 'British Vogue',\n",
       " 'Diana',\n",
       " 'Josh',\n",
       " 'Josh Olins',\n",
       " 'June',\n",
       " 'Kensington Palace',\n",
       " 'Nicholas Cullinan',\n",
       " 'Norfolk',\n",
       " 'Seven',\n",
       " 'Vogue',\n",
       " 'Wales',\n",
       " 'Wednesday',\n",
       " 'first',\n",
       " 'four',\n",
       " 'the Duchess of Cambridge',\n",
       " 'the National Portrait Gallery',\n",
       " 'the day',\n",
       " 'the past 100 years',\n",
       " 'two'}"
      ]
     },
     "execution_count": 18,
     "metadata": {},
     "output_type": "execute_result"
    }
   ],
   "source": [
    "set(get_entities(nlp,dataset['validation'][2]['document']))"
   ]
  },
  {
   "cell_type": "code",
   "execution_count": 19,
   "id": "cb081656",
   "metadata": {},
   "outputs": [
    {
     "data": {
      "text/plain": [
       "{'British Vogue', 'The Duchess of Cambridge'}"
      ]
     },
     "execution_count": 19,
     "metadata": {},
     "output_type": "execute_result"
    }
   ],
   "source": [
    "set(get_entities(nlp,dataset['validation'][2]['summary']))\n"
   ]
  },
  {
   "cell_type": "code",
   "execution_count": 16,
   "id": "8349fbfb",
   "metadata": {},
   "outputs": [
    {
     "data": {
      "text/plain": [
       "'Seven photographs taken in the Norfolk countryside by photographer Josh Olins will appear in the June edition.\\nIn her first sitting for a magazine, the duchess is seen looking relaxed and wearing casual clothes.\\nThe shoot was in collaboration with the National Portrait Gallery, where two images are being displayed in the Vogue 100: A Century of Style exhibition.\\nThe duchess, who has a keen interest in photography, has been patron of the National Portrait Gallery since 2012.\\nNicholas Cullinan, director of the National Portrait Gallery, said: \"Josh has captured the duchess exactly as she is - full of life, with a great sense of humour, thoughtful and intelligent, and in fact, very beautiful.\"\\nHe said the images also encapsulated what Vogue had done over the past 100 years - \"to pair the best photographers with the great personalities of the day, in order to reflect broader shifts in culture and society\".\\nAlexandra Shulman, editor-in-chief of British Vogue, said: \"To be able to publish a photographic shoot with the Duchess of Cambridge has been one of my greatest ambitions for the magazine.\"\\nThe collaboration for the June edition had resulted in \"a true celebration of our centenary as well as a fitting tribute to a young woman whose interest in both photography and the countryside is well known\", she said.\\nOther royal portraits to have featured in the fashion magazine include Diana, Princess of Wales - who graced the cover four times - and Princess Anne.\\nThe duchess is to visit the exhibition at the National Portrait Gallery on Wednesday, Kensington Palace said.'"
      ]
     },
     "execution_count": 16,
     "metadata": {},
     "output_type": "execute_result"
    }
   ],
   "source": [
    "dataset['validation'][2]['document']"
   ]
  },
  {
   "cell_type": "code",
   "execution_count": 17,
   "id": "3ef25928",
   "metadata": {},
   "outputs": [
    {
     "data": {
      "text/plain": [
       "\"The Duchess of Cambridge will feature on the cover of British Vogue to mark the magazine's centenary.\""
      ]
     },
     "execution_count": 17,
     "metadata": {},
     "output_type": "execute_result"
    }
   ],
   "source": [
    "dataset['validation'][2]['summary']"
   ]
  },
  {
   "cell_type": "markdown",
   "id": "330f6f52",
   "metadata": {},
   "source": [
    "# Analyze the entities in generated summary and gt summary for CNNDM"
   ]
  },
  {
   "cell_type": "code",
   "execution_count": 14,
   "id": "24a75feb",
   "metadata": {},
   "outputs": [
    {
     "name": "stderr",
     "output_type": "stream",
     "text": [
      "100%|██████████| 11490/11490 [03:39<00:00, 52.46it/s]\n"
     ]
    }
   ],
   "source": [
    "# pegasus_dir = '/scratch/wenxiao/topic_guided_summ/pegasus/generated_txt_0_cnndm_beam=1_1024_1024/'\n",
    "# pegasus_dir = '/scratch/wenxiao/topic_guided_summ/pegasus_ent_a=1/generated_txt_0_cnndm_beam=1_1024_1024/'\n",
    "pegasus_dir = '/scratch/wenxiao/topic_guided_summ/spancopy_newloss_cnndm/generated_txt_0_cnndm_beam=1_1024_1024/'\n",
    "\n",
    "all_files = os.listdir(pegasus_dir)\n",
    "all_files.sort()\n",
    "recall=[]\n",
    "precision=[]\n",
    "f1=[]\n",
    "generated_entity_num=[]\n",
    "gt_entity_num=[]\n",
    "for i,f in enumerate(tqdm(all_files)):\n",
    "    with open(pegasus_dir+f) as of:\n",
    "        generated_summ=of.read()\n",
    "    fid = int(f[:-4])\n",
    "    gt_summ = dataset['test'][fid]['highlights']\n",
    "    generated_entities = set(get_entities(nlp,generated_summ))\n",
    "    generated_entity_num.append(len(generated_entities))\n",
    "    gt_entities = set(get_entities(nlp,gt_summ))\n",
    "    gt_entity_num.append(len(gt_entities))\n",
    "    num_intersect=approximate_match_number(generated_entities,gt_entities)\n",
    "#     num_intersect = len(doc_entities.intersection(summ_entities))\n",
    "    r= num_intersect/float(len(gt_entities)) if len(gt_entities)!=0 else 0\n",
    "    p= num_intersect/float(len(generated_entities)) if len(generated_entities)!=0 else 0\n",
    "    f = 2*p*r/(p+r) if r!=0 or p!=0 else 0\n",
    "\n",
    "    recall.append(r)\n",
    "    precision.append(p)\n",
    "    f1.append(f)\n",
    "#     break"
   ]
  },
  {
   "cell_type": "code",
   "execution_count": 15,
   "id": "defb2c4c",
   "metadata": {},
   "outputs": [
    {
     "name": "stdout",
     "output_type": "stream",
     "text": [
      "0.42697663005117004\n",
      "0.4140268753530566\n",
      "0.3974646503365596\n",
      "6.418798955613577\n",
      "6.060922541340296\n"
     ]
    }
   ],
   "source": [
    "print(sum(precision)/len(precision))\n",
    "print(sum(recall)/len(recall))\n",
    "print(sum(f1)/len(f1))\n",
    "print(sum(gt_entity_num)/len(gt_entity_num))\n",
    "print(sum(generated_entity_num)/len(generated_entity_num))"
   ]
  },
  {
   "cell_type": "markdown",
   "id": "ef0621f5",
   "metadata": {},
   "source": [
    "# Analyze the entities in generated summary and gt summary for XSum"
   ]
  },
  {
   "cell_type": "code",
   "execution_count": 24,
   "id": "bf690ee7",
   "metadata": {},
   "outputs": [
    {
     "name": "stderr",
     "output_type": "stream",
     "text": [
      "11334it [02:23, 78.99it/s]\n"
     ]
    }
   ],
   "source": [
    "pegasus_dir = '/scratch/wenxiao/topic_guided_summ/pegasus_xsum/'\n",
    "\n",
    "all_files = os.listdir(pegasus_dir)\n",
    "all_files.sort()\n",
    "recall=[]\n",
    "precision=[]\n",
    "f1=[]\n",
    "generated_entity_num=[]\n",
    "gt_entity_num=[]\n",
    "for i,f in tqdm(enumerate(all_files)):\n",
    "    with open(pegasus_dir+f) as of:\n",
    "        generated_summ=of.read()\n",
    "    fid = int(f[:-4])\n",
    "    gt_summ = dataset['test'][fid]['summary']\n",
    "    generated_entities = set(get_entities(nlp,generated_summ))\n",
    "    generated_entity_num.append(len(generated_entities))\n",
    "    gt_entities = set(get_entities(nlp,gt_summ))\n",
    "    gt_entity_num.append(len(gt_entities))\n",
    "    num_intersect=approximate_match_number(generated_entities,gt_entities)\n",
    "#     num_intersect = len(doc_entities.intersection(summ_entities))\n",
    "    r= num_intersect/float(len(gt_entities)) if len(gt_entities)!=0 else 0\n",
    "    p= num_intersect/float(len(generated_entities)) if len(generated_entities)!=0 else 0\n",
    "    f = 2*p*r/(p+r) if r!=0 or p!=0 else 0\n",
    "\n",
    "    recall.append(r)\n",
    "    precision.append(p)\n",
    "    f1.append(f)\n",
    "#     break"
   ]
  },
  {
   "cell_type": "code",
   "execution_count": 25,
   "id": "101a88c4",
   "metadata": {},
   "outputs": [
    {
     "name": "stdout",
     "output_type": "stream",
     "text": [
      "0.4506206650061949\n",
      "0.41665846848483096\n",
      "0.4154179812537753\n",
      "2.7310746426680783\n",
      "2.47335450855832\n"
     ]
    }
   ],
   "source": [
    "print(sum(precision)/len(precision))\n",
    "print(sum(recall)/len(recall))\n",
    "print(sum(f1)/len(f1))\n",
    "print(sum(gt_entity_num)/len(gt_entity_num))\n",
    "print(sum(generated_entity_num)/len(generated_entity_num))"
   ]
  },
  {
   "cell_type": "code",
   "execution_count": 33,
   "id": "970af11a",
   "metadata": {},
   "outputs": [],
   "source": [
    "with open(pegasus_dir+all_files[0]) as of:\n",
    "    generated_summ=of.read()"
   ]
  },
  {
   "cell_type": "code",
   "execution_count": 27,
   "id": "f29d7ffd",
   "metadata": {},
   "outputs": [
    {
     "data": {
      "text/plain": [
       "{'document': \"Giaccherini, 31, joined the Black Cats in 2013 from Juventus for £6.5m but, after an impressive first season, he struggled to make an impact.\\nHe played 43 times in total for the club, scoring five goals, but spent last season on loan at Serie A Bologna.\\nThe Italian has 29 international caps and scored the Azzurri's opening goal of Euro 2016 against Belgium.\\nFind all the latest football transfers on our dedicated page.\",\n",
       " 'summary': 'Sunderland and Italy winger Emanuele Giaccherini has joined Napoli on a three-year deal for an undisclosed fee.',\n",
       " 'id': '36815932'}"
      ]
     },
     "execution_count": 27,
     "metadata": {},
     "output_type": "execute_result"
    }
   ],
   "source": [
    "dataset['test'][fid]"
   ]
  },
  {
   "cell_type": "code",
   "execution_count": null,
   "id": "43475c5f",
   "metadata": {},
   "outputs": [],
   "source": []
  }
 ],
 "metadata": {
  "kernelspec": {
   "display_name": "py37 Kernel",
   "language": "python",
   "name": "py37"
  },
  "language_info": {
   "codemirror_mode": {
    "name": "ipython",
    "version": 3
   },
   "file_extension": ".py",
   "mimetype": "text/x-python",
   "name": "python",
   "nbconvert_exporter": "python",
   "pygments_lexer": "ipython3",
   "version": "3.7.11"
  }
 },
 "nbformat": 4,
 "nbformat_minor": 5
}
